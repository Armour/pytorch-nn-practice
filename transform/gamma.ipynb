{
 "cells": [
  {
   "cell_type": "code",
   "execution_count": 9,
   "metadata": {},
   "outputs": [],
   "source": [
    "from __future__ import print_function\n",
    "\n",
    "import cv2\n",
    "import numpy as np\n",
    "\n",
    "import torch.utils as utils\n",
    "\n",
    "from torchvision import datasets, transforms\n",
    "\n",
    "from PIL import Image"
   ]
  },
  {
   "cell_type": "code",
   "execution_count": 10,
   "metadata": {},
   "outputs": [],
   "source": [
    "class Gamma(object):\n",
    "    def __init__(self, gamma=1.0):\n",
    "        self.gamma = gamma\n",
    "\n",
    "    def _adjust_gamma(self, img):\n",
    "        # convert PIL.Image to nparray\n",
    "        img = np.asarray(img)\n",
    "        # build a lookup table mapping the pixel values [0, 255] to their adjusted gamma values\n",
    "        invGamma = 1.0 / self.gamma\n",
    "        table = np.uint8(np.array([((i / 255.0) ** invGamma) * 255 for i in np.arange(0, 256)]))\n",
    "        # apply gamma correction using the lookup table\n",
    "        img = cv2.LUT(img, table)\n",
    "        # convert nparray to PIL.Image and return\n",
    "        return Image.fromarray(np.uint8(img))\n",
    "              \n",
    "    def __call__(self, img):        \n",
    "        \"\"\"\n",
    "        Args:\n",
    "            img (PIL.Image): Image to be gamma corrected.\n",
    "        Returns:\n",
    "            PIL.Image: gamma corrected image.\n",
    "        \"\"\"\n",
    "        return self._adjust_gamma(img)\n",
    "\n",
    "# gamma_transform = transforms.Compose([\n",
    "#     transforms.Scale(224),\n",
    "#     Gamma(0.5),\n",
    "#     transforms.ToTensor(),\n",
    "# ])\n",
    "\n",
    "# gammaset = datasets.CIFAR10(root='data', train=True, download=True, transform=gamma_transform)\n",
    "# gammaloader = utils.data.DataLoader(gammaset, batch_size=1, shuffle=True, num_workers=2)\n",
    "    \n",
    "# for batch_idx, (inputs, targets) in enumerate(gammaloader):\n",
    "#     img = inputs[0].numpy()\n",
    "#     img = np.uint8(np.stack([img[0], img[1], img[2]], axis=-1) * 255)\n",
    "#     cv2.imwrite('test/gamma-correction-%f.jpg' % batch_idx, img)\n",
    "#     if batch_idx == 50:\n",
    "#         break"
   ]
  },
  {
   "cell_type": "code",
   "execution_count": null,
   "metadata": {},
   "outputs": [],
   "source": []
  }
 ],
 "metadata": {
  "kernelspec": {
   "display_name": "Python 3",
   "language": "python",
   "name": "python3"
  },
  "language_info": {
   "codemirror_mode": {
    "name": "ipython",
    "version": 3
   },
   "file_extension": ".py",
   "mimetype": "text/x-python",
   "name": "python",
   "nbconvert_exporter": "python",
   "pygments_lexer": "ipython3",
   "version": "3.6.2"
  }
 },
 "nbformat": 4,
 "nbformat_minor": 2
}
